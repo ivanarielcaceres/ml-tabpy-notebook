{
 "cells": [
  {
   "cell_type": "code",
   "execution_count": 4,
   "metadata": {
    "collapsed": true
   },
   "outputs": [],
   "source": [
    "import tabpy_client\n",
    "\n",
    "client = tabpy_client.Client('http://localhost:9004/')"
   ]
  },
  {
   "cell_type": "code",
   "execution_count": 5,
   "metadata": {
    "collapsed": true
   },
   "outputs": [],
   "source": [
    "def add(x,y):\n",
    "    import numpy as np\n",
    "    return np.add(x, y).tolist()\n",
    "\n",
    "client.deploy('add', add, 'Adds two numbers x and y', override=True)"
   ]
  },
  {
   "cell_type": "code",
   "execution_count": 6,
   "metadata": {
    "collapsed": true
   },
   "outputs": [],
   "source": [
    "def clustering(x, y):\n",
    "    import numpy as np\n",
    "    from sklearn.cluster import DBSCAN\n",
    "    from sklearn.preprocessing import StandardScaler\n",
    "    X = np.column_stack([x, y])\n",
    "    X = StandardScaler().fit_transform(X)\n",
    "    db = DBSCAN(eps=1, min_samples=3).fit(X)\n",
    "    return db.labels_.tolist()\n",
    "\n",
    "\n",
    "client.deploy('clustering',\n",
    "                clustering,\n",
    "                'Returns cluster Ids for each data point specified by the pairs in x and y', override=True)"
   ]
  },
  {
   "cell_type": "code",
   "execution_count": 7,
   "metadata": {
    "collapsed": false
   },
   "outputs": [
    {
     "data": {
      "text/plain": [
       "{'model': 'add',\n",
       " 'response': 3,\n",
       " 'uuid': '47096e42-4878-415f-b95c-43bbd3e60e85',\n",
       " 'version': 2}"
      ]
     },
     "execution_count": 7,
     "metadata": {},
     "output_type": "execute_result"
    }
   ],
   "source": [
    "client.query('add', 1, 2)"
   ]
  },
  {
   "cell_type": "code",
   "execution_count": null,
   "metadata": {
    "collapsed": true
   },
   "outputs": [],
   "source": []
  }
 ],
 "metadata": {
  "kernelspec": {
   "display_name": "Python 3",
   "language": "python",
   "name": "python3"
  },
  "language_info": {
   "codemirror_mode": {
    "name": "ipython",
    "version": 3
   },
   "file_extension": ".py",
   "mimetype": "text/x-python",
   "name": "python",
   "nbconvert_exporter": "python",
   "pygments_lexer": "ipython3",
   "version": "3.6.0"
  }
 },
 "nbformat": 4,
 "nbformat_minor": 2
}
